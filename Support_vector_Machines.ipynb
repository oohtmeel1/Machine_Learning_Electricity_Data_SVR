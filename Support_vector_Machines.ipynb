{
 "cells": [
  {
   "cell_type": "markdown",
   "metadata": {},
   "source": [
    "# Support Vector Machines\n",
    "The Data has already been processed earlier. \n",
    "So I will use what I have."
   ]
  },
  {
   "cell_type": "markdown",
   "metadata": {},
   "source": [
    "## A First Pass"
   ]
  },
  {
   "cell_type": "code",
   "execution_count": 4,
   "metadata": {},
   "outputs": [],
   "source": [
    "from sklearn import svm\n",
    "from sklearn.svm import SVR\n",
    "from sklearn.pipeline import make_pipeline\n",
    "from sklearn.preprocessing import StandardScaler\n",
    "import pandas as pd\n",
    "import numpy as np\n",
    "import os\n",
    "from sklearn.utils import shuffle\n",
    "import matplotlib.pyplot as plt \n",
    "pd.options.display.float_format = '{:.2f}'.format"
   ]
  },
  {
   "cell_type": "code",
   "execution_count": 5,
   "metadata": {},
   "outputs": [],
   "source": [
    "os.getcwd()\n",
    "\n",
    "X1=pd.read_csv(os.getcwd()+ '/X1.csv')\n",
    "X2=pd.read_csv(os.getcwd()+ '/X2.csv')\n",
    "from sklearn.utils import shuffle\n",
    "X1 = shuffle(X1)\n",
    "X2=shuffle(X2)\n",
    "y_train=X1['Data_x'].reset_index(drop=True) # Separating all of the data\n",
    "y_test=X2['Data_x'].reset_index(drop=True)\n",
    "X_train = X1.iloc[:,3: ]\n",
    "X_test = X2.iloc[:,3: ]"
   ]
  },
  {
   "cell_type": "code",
   "execution_count": 6,
   "metadata": {},
   "outputs": [
    {
     "data": {
      "text/html": [
       "<div>\n",
       "<style scoped>\n",
       "    .dataframe tbody tr th:only-of-type {\n",
       "        vertical-align: middle;\n",
       "    }\n",
       "\n",
       "    .dataframe tbody tr th {\n",
       "        vertical-align: top;\n",
       "    }\n",
       "\n",
       "    .dataframe thead th {\n",
       "        text-align: right;\n",
       "    }\n",
       "</style>\n",
       "<table border=\"1\" class=\"dataframe\">\n",
       "  <thead>\n",
       "    <tr style=\"text-align: right;\">\n",
       "      <th></th>\n",
       "      <th>GERCB</th>\n",
       "      <th>HLRCV</th>\n",
       "      <th>LORCB</th>\n",
       "      <th>NGRCV</th>\n",
       "      <th>PERCV</th>\n",
       "      <th>PQRCB</th>\n",
       "      <th>PQRCP</th>\n",
       "      <th>PQRCV</th>\n",
       "      <th>SORCB</th>\n",
       "      <th>SOTXB</th>\n",
       "      <th>TERCB</th>\n",
       "      <th>TERCV</th>\n",
       "      <th>TNRCB</th>\n",
       "      <th>TNRSB</th>\n",
       "      <th>WDRCV</th>\n",
       "      <th>StateCode</th>\n",
       "      <th>Year1</th>\n",
       "    </tr>\n",
       "  </thead>\n",
       "  <tbody>\n",
       "    <tr>\n",
       "      <th>1689</th>\n",
       "      <td>0.00</td>\n",
       "      <td>4.50</td>\n",
       "      <td>22836.00</td>\n",
       "      <td>21.80</td>\n",
       "      <td>31.30</td>\n",
       "      <td>0.00</td>\n",
       "      <td>0.00</td>\n",
       "      <td>0.00</td>\n",
       "      <td>0.00</td>\n",
       "      <td>0.00</td>\n",
       "      <td>47602.00</td>\n",
       "      <td>116.90</td>\n",
       "      <td>24765.00</td>\n",
       "      <td>23611.00</td>\n",
       "      <td>0.20</td>\n",
       "      <td>33</td>\n",
       "      <td>6</td>\n",
       "    </tr>\n",
       "    <tr>\n",
       "      <th>615</th>\n",
       "      <td>0.00</td>\n",
       "      <td>101.50</td>\n",
       "      <td>61950.00</td>\n",
       "      <td>106.80</td>\n",
       "      <td>233.60</td>\n",
       "      <td>0.00</td>\n",
       "      <td>0.00</td>\n",
       "      <td>0.00</td>\n",
       "      <td>0.00</td>\n",
       "      <td>0.00</td>\n",
       "      <td>227730.00</td>\n",
       "      <td>454.60</td>\n",
       "      <td>165780.00</td>\n",
       "      <td>164072.00</td>\n",
       "      <td>0.20</td>\n",
       "      <td>12</td>\n",
       "      <td>3</td>\n",
       "    </tr>\n",
       "    <tr>\n",
       "      <th>413</th>\n",
       "      <td>0.00</td>\n",
       "      <td>6.10</td>\n",
       "      <td>13423.00</td>\n",
       "      <td>16.90</td>\n",
       "      <td>57.20</td>\n",
       "      <td>0.00</td>\n",
       "      <td>0.00</td>\n",
       "      <td>0.00</td>\n",
       "      <td>0.00</td>\n",
       "      <td>0.00</td>\n",
       "      <td>40760.00</td>\n",
       "      <td>135.10</td>\n",
       "      <td>27337.00</td>\n",
       "      <td>26452.00</td>\n",
       "      <td>0.50</td>\n",
       "      <td>8</td>\n",
       "      <td>5</td>\n",
       "    </tr>\n",
       "    <tr>\n",
       "      <th>1881</th>\n",
       "      <td>24.00</td>\n",
       "      <td>117.90</td>\n",
       "      <td>143672.00</td>\n",
       "      <td>608.20</td>\n",
       "      <td>739.30</td>\n",
       "      <td>6949.00</td>\n",
       "      <td>1809.00</td>\n",
       "      <td>117.90</td>\n",
       "      <td>50.00</td>\n",
       "      <td>57.00</td>\n",
       "      <td>293972.00</td>\n",
       "      <td>3032.90</td>\n",
       "      <td>150300.00</td>\n",
       "      <td>147814.00</td>\n",
       "      <td>13.00</td>\n",
       "      <td>36</td>\n",
       "      <td>45</td>\n",
       "    </tr>\n",
       "    <tr>\n",
       "      <th>902</th>\n",
       "      <td>761.00</td>\n",
       "      <td>159.90</td>\n",
       "      <td>218664.00</td>\n",
       "      <td>734.90</td>\n",
       "      <td>978.90</td>\n",
       "      <td>0.00</td>\n",
       "      <td>0.00</td>\n",
       "      <td>0.00</td>\n",
       "      <td>35.00</td>\n",
       "      <td>35.00</td>\n",
       "      <td>391703.00</td>\n",
       "      <td>2748.20</td>\n",
       "      <td>173039.00</td>\n",
       "      <td>166055.00</td>\n",
       "      <td>27.20</td>\n",
       "      <td>17</td>\n",
       "      <td>35</td>\n",
       "    </tr>\n",
       "  </tbody>\n",
       "</table>\n",
       "</div>"
      ],
      "text/plain": [
       "      GERCB  HLRCV     LORCB  NGRCV  PERCV   PQRCB   PQRCP  PQRCV  SORCB  \\\n",
       "1689   0.00   4.50  22836.00  21.80  31.30    0.00    0.00   0.00   0.00   \n",
       "615    0.00 101.50  61950.00 106.80 233.60    0.00    0.00   0.00   0.00   \n",
       "413    0.00   6.10  13423.00  16.90  57.20    0.00    0.00   0.00   0.00   \n",
       "1881  24.00 117.90 143672.00 608.20 739.30 6949.00 1809.00 117.90  50.00   \n",
       "902  761.00 159.90 218664.00 734.90 978.90    0.00    0.00   0.00  35.00   \n",
       "\n",
       "      SOTXB     TERCB   TERCV     TNRCB     TNRSB  WDRCV  StateCode  Year1  \n",
       "1689   0.00  47602.00  116.90  24765.00  23611.00   0.20         33      6  \n",
       "615    0.00 227730.00  454.60 165780.00 164072.00   0.20         12      3  \n",
       "413    0.00  40760.00  135.10  27337.00  26452.00   0.50          8      5  \n",
       "1881  57.00 293972.00 3032.90 150300.00 147814.00  13.00         36     45  \n",
       "902   35.00 391703.00 2748.20 173039.00 166055.00  27.20         17     35  "
      ]
     },
     "execution_count": 6,
     "metadata": {},
     "output_type": "execute_result"
    }
   ],
   "source": [
    "X_train.head()"
   ]
  },
  {
   "cell_type": "markdown",
   "metadata": {},
   "source": [
    "Created a pipeline here."
   ]
  },
  {
   "cell_type": "code",
   "execution_count": 7,
   "metadata": {},
   "outputs": [],
   "source": [
    "from sklearn.svm import SVR\n",
    "from sklearn.pipeline import make_pipeline\n",
    "from sklearn.preprocessing import StandardScaler\n",
    "import numpy as np\n",
    "regr = make_pipeline(StandardScaler(), SVR(C=1.0, epsilon=0.2))\n",
    "y_pred=regr.fit(X_train, y_train).predict(X_test)"
   ]
  },
  {
   "cell_type": "code",
   "execution_count": 8,
   "metadata": {},
   "outputs": [
    {
     "data": {
      "text/html": [
       "<div>\n",
       "<style scoped>\n",
       "    .dataframe tbody tr th:only-of-type {\n",
       "        vertical-align: middle;\n",
       "    }\n",
       "\n",
       "    .dataframe tbody tr th {\n",
       "        vertical-align: top;\n",
       "    }\n",
       "\n",
       "    .dataframe thead th {\n",
       "        text-align: right;\n",
       "    }\n",
       "</style>\n",
       "<table border=\"1\" class=\"dataframe\">\n",
       "  <thead>\n",
       "    <tr style=\"text-align: right;\">\n",
       "      <th></th>\n",
       "      <th>true</th>\n",
       "      <th>predicted</th>\n",
       "      <th>how_off</th>\n",
       "    </tr>\n",
       "  </thead>\n",
       "  <tbody>\n",
       "    <tr>\n",
       "      <th>0</th>\n",
       "      <td>1128.00</td>\n",
       "      <td>1064.21</td>\n",
       "      <td>5.66</td>\n",
       "    </tr>\n",
       "  </tbody>\n",
       "</table>\n",
       "</div>"
      ],
      "text/plain": [
       "     true  predicted  how_off\n",
       "0 1128.00    1064.21     5.66"
      ]
     },
     "execution_count": 8,
     "metadata": {},
     "output_type": "execute_result"
    }
   ],
   "source": [
    "y_true =y_test\n",
    "results_trial1=pd.DataFrame(y_pred,y_true).reset_index()\n",
    "results_trial1=pd.DataFrame(y_pred,y_true).reset_index()\n",
    "results_trial1=results_trial1.rename(columns={'Data_x':'true',0:'predicted'})\n",
    "results_trial1['how_off']= ((results_trial1['true']-results_trial1['predicted'])/results_trial1['true'])*100\n",
    "results_trial1.head(1)\n"
   ]
  },
  {
   "cell_type": "markdown",
   "metadata": {},
   "source": [
    "The results were not ideal. \n"
   ]
  },
  {
   "cell_type": "code",
   "execution_count": 9,
   "metadata": {},
   "outputs": [
    {
     "data": {
      "text/plain": [
       "<matplotlib.legend.Legend at 0x21de436c8c0>"
      ]
     },
     "execution_count": 9,
     "metadata": {},
     "output_type": "execute_result"
    },
    {
     "data": {
      "image/png": "[encoded data removed]",
      "text/plain": [
       "<Figure size 640x480 with 1 Axes>"
      ]
     },
     "metadata": {},
     "output_type": "display_data"
    }
   ],
   "source": [
    "r1 = np.arange(len(results_trial1['true']))\n",
    "\n",
    "plt.bar(r1, results_trial1['true'], color='#7f6d5f', edgecolor='white', label='true values')\n",
    "plt.scatter(r1, results_trial1['predicted'], color='#557f2d', edgecolor='white', label='predicted values')\n",
    "plt.xlabel('Run #')\n",
    "plt.ylabel('Predicted Values')\n",
    "plt.title('Predicted value vs true value')\n",
    "\n",
    "plt.legend()"
   ]
  },
  {
   "cell_type": "markdown",
   "metadata": {},
   "source": [
    "## Parameter Optimazation"
   ]
  },
  {
   "cell_type": "markdown",
   "metadata": {},
   "source": [
    "### Varying C\n",
    "Gridsearch is extremely slow at the moment. So I will do this the old fashioned way. \\\n",
    "First vary the regularization parameter."
   ]
  },
  {
   "cell_type": "code",
   "execution_count": 10,
   "metadata": {},
   "outputs": [],
   "source": [
    "from sklearn.svm import SVR\n",
    "from sklearn.pipeline import make_pipeline\n",
    "from sklearn.preprocessing import StandardScaler\n",
    "import numpy as np\n",
    "from sklearn.metrics import mean_absolute_error\n",
    "from sklearn.metrics import mean_squared_error\n",
    "from sklearn.metrics import explained_variance_score\n",
    "from sklearn.metrics import r2_score\n",
    "\n",
    "\n",
    "m=20\n",
    "abc=[]\n",
    "defg=[]\n",
    "for i in range(1,m):\n",
    "\tregr = make_pipeline(StandardScaler(), SVR(C=i, epsilon=0.2))\n",
    "\ty_pred=regr.fit(X_train, y_train).predict(X_test)\n",
    "\tabc.append((mean_absolute_error(y_true, y_pred),\n",
    "            mean_squared_error(y_true, y_pred),explained_variance_score(y_true, y_pred),r2_score(y_true, y_pred)))\n",
    "\tdefg.append(y_true)\n",
    "\tpqr=pd.DataFrame(abc).T"
   ]
  },
  {
   "cell_type": "code",
   "execution_count": 11,
   "metadata": {},
   "outputs": [],
   "source": [
    "pqr=pqr.rename(index={0:'Mean Absolute error',1:'Mean Squared error',2:'explained variance',3:'r_2 score'})"
   ]
  },
  {
   "cell_type": "markdown",
   "metadata": {},
   "source": [
    "### Results of just chaning the reuglarization parameter.\n",
    "The results below were not ideal. The Mean absoulte error was 2000 and the r_2 was incredibly low. "
   ]
  },
  {
   "cell_type": "code",
   "execution_count": 12,
   "metadata": {},
   "outputs": [
    {
     "data": {
      "text/html": [
       "<div>\n",
       "<style scoped>\n",
       "    .dataframe tbody tr th:only-of-type {\n",
       "        vertical-align: middle;\n",
       "    }\n",
       "\n",
       "    .dataframe tbody tr th {\n",
       "        vertical-align: top;\n",
       "    }\n",
       "\n",
       "    .dataframe thead th {\n",
       "        text-align: right;\n",
       "    }\n",
       "</style>\n",
       "<table border=\"1\" class=\"dataframe\">\n",
       "  <thead>\n",
       "    <tr style=\"text-align: right;\">\n",
       "      <th></th>\n",
       "      <th>0</th>\n",
       "      <th>1</th>\n",
       "      <th>2</th>\n",
       "      <th>3</th>\n",
       "      <th>4</th>\n",
       "      <th>5</th>\n",
       "      <th>6</th>\n",
       "      <th>7</th>\n",
       "      <th>8</th>\n",
       "      <th>9</th>\n",
       "      <th>10</th>\n",
       "      <th>11</th>\n",
       "      <th>12</th>\n",
       "      <th>13</th>\n",
       "      <th>14</th>\n",
       "      <th>15</th>\n",
       "      <th>16</th>\n",
       "      <th>17</th>\n",
       "      <th>18</th>\n",
       "    </tr>\n",
       "  </thead>\n",
       "  <tbody>\n",
       "    <tr>\n",
       "      <th>Mean Absolute error</th>\n",
       "      <td>2957.51</td>\n",
       "      <td>2792.97</td>\n",
       "      <td>2668.64</td>\n",
       "      <td>2572.99</td>\n",
       "      <td>2492.08</td>\n",
       "      <td>2429.53</td>\n",
       "      <td>2375.58</td>\n",
       "      <td>2321.06</td>\n",
       "      <td>2278.06</td>\n",
       "      <td>2235.52</td>\n",
       "      <td>2200.26</td>\n",
       "      <td>2170.31</td>\n",
       "      <td>2141.14</td>\n",
       "      <td>2112.25</td>\n",
       "      <td>2084.62</td>\n",
       "      <td>2055.50</td>\n",
       "      <td>2032.23</td>\n",
       "      <td>2011.19</td>\n",
       "      <td>1991.73</td>\n",
       "    </tr>\n",
       "    <tr>\n",
       "      <th>Mean Squared error</th>\n",
       "      <td>25384127.52</td>\n",
       "      <td>23871450.82</td>\n",
       "      <td>22780424.80</td>\n",
       "      <td>21903785.80</td>\n",
       "      <td>21147071.61</td>\n",
       "      <td>20601187.03</td>\n",
       "      <td>20141387.34</td>\n",
       "      <td>19694202.70</td>\n",
       "      <td>19352234.52</td>\n",
       "      <td>19008309.65</td>\n",
       "      <td>18712479.84</td>\n",
       "      <td>18464580.07</td>\n",
       "      <td>18242558.39</td>\n",
       "      <td>18007064.25</td>\n",
       "      <td>17809060.80</td>\n",
       "      <td>17590235.38</td>\n",
       "      <td>17435750.35</td>\n",
       "      <td>17301447.28</td>\n",
       "      <td>17182898.36</td>\n",
       "    </tr>\n",
       "    <tr>\n",
       "      <th>explained variance</th>\n",
       "      <td>0.03</td>\n",
       "      <td>0.05</td>\n",
       "      <td>0.06</td>\n",
       "      <td>0.08</td>\n",
       "      <td>0.09</td>\n",
       "      <td>0.10</td>\n",
       "      <td>0.11</td>\n",
       "      <td>0.12</td>\n",
       "      <td>0.13</td>\n",
       "      <td>0.14</td>\n",
       "      <td>0.15</td>\n",
       "      <td>0.16</td>\n",
       "      <td>0.17</td>\n",
       "      <td>0.17</td>\n",
       "      <td>0.18</td>\n",
       "      <td>0.19</td>\n",
       "      <td>0.19</td>\n",
       "      <td>0.20</td>\n",
       "      <td>0.20</td>\n",
       "    </tr>\n",
       "    <tr>\n",
       "      <th>r_2 score</th>\n",
       "      <td>-0.39</td>\n",
       "      <td>-0.31</td>\n",
       "      <td>-0.25</td>\n",
       "      <td>-0.20</td>\n",
       "      <td>-0.16</td>\n",
       "      <td>-0.13</td>\n",
       "      <td>-0.10</td>\n",
       "      <td>-0.08</td>\n",
       "      <td>-0.06</td>\n",
       "      <td>-0.04</td>\n",
       "      <td>-0.02</td>\n",
       "      <td>-0.01</td>\n",
       "      <td>0.00</td>\n",
       "      <td>0.02</td>\n",
       "      <td>0.03</td>\n",
       "      <td>0.04</td>\n",
       "      <td>0.05</td>\n",
       "      <td>0.05</td>\n",
       "      <td>0.06</td>\n",
       "    </tr>\n",
       "  </tbody>\n",
       "</table>\n",
       "</div>"
      ],
      "text/plain": [
       "                             0           1           2           3   \\\n",
       "Mean Absolute error     2957.51     2792.97     2668.64     2572.99   \n",
       "Mean Squared error  25384127.52 23871450.82 22780424.80 21903785.80   \n",
       "explained variance         0.03        0.05        0.06        0.08   \n",
       "r_2 score                 -0.39       -0.31       -0.25       -0.20   \n",
       "\n",
       "                             4           5           6           7   \\\n",
       "Mean Absolute error     2492.08     2429.53     2375.58     2321.06   \n",
       "Mean Squared error  21147071.61 20601187.03 20141387.34 19694202.70   \n",
       "explained variance         0.09        0.10        0.11        0.12   \n",
       "r_2 score                 -0.16       -0.13       -0.10       -0.08   \n",
       "\n",
       "                             8           9           10          11  \\\n",
       "Mean Absolute error     2278.06     2235.52     2200.26     2170.31   \n",
       "Mean Squared error  19352234.52 19008309.65 18712479.84 18464580.07   \n",
       "explained variance         0.13        0.14        0.15        0.16   \n",
       "r_2 score                 -0.06       -0.04       -0.02       -0.01   \n",
       "\n",
       "                             12          13          14          15  \\\n",
       "Mean Absolute error     2141.14     2112.25     2084.62     2055.50   \n",
       "Mean Squared error  18242558.39 18007064.25 17809060.80 17590235.38   \n",
       "explained variance         0.17        0.17        0.18        0.19   \n",
       "r_2 score                  0.00        0.02        0.03        0.04   \n",
       "\n",
       "                             16          17          18  \n",
       "Mean Absolute error     2032.23     2011.19     1991.73  \n",
       "Mean Squared error  17435750.35 17301447.28 17182898.36  \n",
       "explained variance         0.19        0.20        0.20  \n",
       "r_2 score                  0.05        0.05        0.06  "
      ]
     },
     "execution_count": 12,
     "metadata": {},
     "output_type": "execute_result"
    }
   ],
   "source": [
    "pqr"
   ]
  },
  {
   "cell_type": "markdown",
   "metadata": {},
   "source": [
    "### Kernel Changed from RBF to linear\n",
    "Changed the kernel type from `radial basis function` to `linear` and extend the range for the regularization parameter."
   ]
  },
  {
   "cell_type": "code",
   "execution_count": 13,
   "metadata": {},
   "outputs": [],
   "source": [
    "m=25\n",
    "abc=[]\n",
    "defg=[]\n",
    "#This needs to run 3 times and in those 3 times. Needs to give results\n",
    "for i in range(1,m):\n",
    "\tregr = make_pipeline(StandardScaler(), SVR(C=i,kernel='linear', epsilon=0.2))\n",
    "\ty_pred=regr.fit(X_train, y_train).predict(X_test)\n",
    "\tabc.append((mean_absolute_error(y_true, y_pred),\n",
    "            mean_squared_error(y_true, y_pred),explained_variance_score(y_true, y_pred),r2_score(y_true, y_pred)))\n",
    "\tdefg.append(y_true)\n",
    "\tpqr=pd.DataFrame(abc).T\n"
   ]
  },
  {
   "cell_type": "markdown",
   "metadata": {},
   "source": [
    "### Results of kernel change\n",
    "\n",
    "The best performing model in the output below has extremely low squared errors and high $R^2$ and explained variance."
   ]
  },
  {
   "cell_type": "code",
   "execution_count": 14,
   "metadata": {},
   "outputs": [
    {
     "data": {
      "text/html": [
       "<div>\n",
       "<style scoped>\n",
       "    .dataframe tbody tr th:only-of-type {\n",
       "        vertical-align: middle;\n",
       "    }\n",
       "\n",
       "    .dataframe tbody tr th {\n",
       "        vertical-align: top;\n",
       "    }\n",
       "\n",
       "    .dataframe thead th {\n",
       "        text-align: right;\n",
       "    }\n",
       "</style>\n",
       "<table border=\"1\" class=\"dataframe\">\n",
       "  <thead>\n",
       "    <tr style=\"text-align: right;\">\n",
       "      <th></th>\n",
       "      <th>0</th>\n",
       "      <th>1</th>\n",
       "      <th>2</th>\n",
       "      <th>3</th>\n",
       "      <th>4</th>\n",
       "      <th>5</th>\n",
       "      <th>6</th>\n",
       "      <th>7</th>\n",
       "      <th>8</th>\n",
       "      <th>9</th>\n",
       "      <th>...</th>\n",
       "      <th>14</th>\n",
       "      <th>15</th>\n",
       "      <th>16</th>\n",
       "      <th>17</th>\n",
       "      <th>18</th>\n",
       "      <th>19</th>\n",
       "      <th>20</th>\n",
       "      <th>21</th>\n",
       "      <th>22</th>\n",
       "      <th>23</th>\n",
       "    </tr>\n",
       "  </thead>\n",
       "  <tbody>\n",
       "    <tr>\n",
       "      <th>0</th>\n",
       "      <td>807.71</td>\n",
       "      <td>647.52</td>\n",
       "      <td>555.42</td>\n",
       "      <td>477.29</td>\n",
       "      <td>423.09</td>\n",
       "      <td>372.50</td>\n",
       "      <td>335.77</td>\n",
       "      <td>300.17</td>\n",
       "      <td>268.50</td>\n",
       "      <td>236.27</td>\n",
       "      <td>...</td>\n",
       "      <td>98.01</td>\n",
       "      <td>73.16</td>\n",
       "      <td>49.17</td>\n",
       "      <td>26.34</td>\n",
       "      <td>6.56</td>\n",
       "      <td>1.48</td>\n",
       "      <td>0.90</td>\n",
       "      <td>0.61</td>\n",
       "      <td>0.50</td>\n",
       "      <td>0.43</td>\n",
       "    </tr>\n",
       "    <tr>\n",
       "      <th>1</th>\n",
       "      <td>2234662.17</td>\n",
       "      <td>1420285.52</td>\n",
       "      <td>1035246.76</td>\n",
       "      <td>770271.34</td>\n",
       "      <td>594246.41</td>\n",
       "      <td>464131.87</td>\n",
       "      <td>373375.22</td>\n",
       "      <td>297778.33</td>\n",
       "      <td>238012.15</td>\n",
       "      <td>184288.86</td>\n",
       "      <td>...</td>\n",
       "      <td>31005.94</td>\n",
       "      <td>17208.54</td>\n",
       "      <td>7750.25</td>\n",
       "      <td>2210.91</td>\n",
       "      <td>136.69</td>\n",
       "      <td>6.69</td>\n",
       "      <td>2.40</td>\n",
       "      <td>1.04</td>\n",
       "      <td>0.68</td>\n",
       "      <td>0.49</td>\n",
       "    </tr>\n",
       "    <tr>\n",
       "      <th>2</th>\n",
       "      <td>0.89</td>\n",
       "      <td>0.93</td>\n",
       "      <td>0.95</td>\n",
       "      <td>0.96</td>\n",
       "      <td>0.97</td>\n",
       "      <td>0.98</td>\n",
       "      <td>0.98</td>\n",
       "      <td>0.98</td>\n",
       "      <td>0.99</td>\n",
       "      <td>0.99</td>\n",
       "      <td>...</td>\n",
       "      <td>1.00</td>\n",
       "      <td>1.00</td>\n",
       "      <td>1.00</td>\n",
       "      <td>1.00</td>\n",
       "      <td>1.00</td>\n",
       "      <td>1.00</td>\n",
       "      <td>1.00</td>\n",
       "      <td>1.00</td>\n",
       "      <td>1.00</td>\n",
       "      <td>1.00</td>\n",
       "    </tr>\n",
       "    <tr>\n",
       "      <th>3</th>\n",
       "      <td>0.88</td>\n",
       "      <td>0.92</td>\n",
       "      <td>0.94</td>\n",
       "      <td>0.96</td>\n",
       "      <td>0.97</td>\n",
       "      <td>0.97</td>\n",
       "      <td>0.98</td>\n",
       "      <td>0.98</td>\n",
       "      <td>0.99</td>\n",
       "      <td>0.99</td>\n",
       "      <td>...</td>\n",
       "      <td>1.00</td>\n",
       "      <td>1.00</td>\n",
       "      <td>1.00</td>\n",
       "      <td>1.00</td>\n",
       "      <td>1.00</td>\n",
       "      <td>1.00</td>\n",
       "      <td>1.00</td>\n",
       "      <td>1.00</td>\n",
       "      <td>1.00</td>\n",
       "      <td>1.00</td>\n",
       "    </tr>\n",
       "  </tbody>\n",
       "</table>\n",
       "<p>4 rows × 24 columns</p>\n",
       "</div>"
      ],
      "text/plain": [
       "          0          1          2         3         4         5         6   \\\n",
       "0     807.71     647.52     555.42    477.29    423.09    372.50    335.77   \n",
       "1 2234662.17 1420285.52 1035246.76 770271.34 594246.41 464131.87 373375.22   \n",
       "2       0.89       0.93       0.95      0.96      0.97      0.98      0.98   \n",
       "3       0.88       0.92       0.94      0.96      0.97      0.97      0.98   \n",
       "\n",
       "         7         8         9   ...       14       15      16      17     18  \\\n",
       "0    300.17    268.50    236.27  ...    98.01    73.16   49.17   26.34   6.56   \n",
       "1 297778.33 238012.15 184288.86  ... 31005.94 17208.54 7750.25 2210.91 136.69   \n",
       "2      0.98      0.99      0.99  ...     1.00     1.00    1.00    1.00   1.00   \n",
       "3      0.98      0.99      0.99  ...     1.00     1.00    1.00    1.00   1.00   \n",
       "\n",
       "    19   20   21   22   23  \n",
       "0 1.48 0.90 0.61 0.50 0.43  \n",
       "1 6.69 2.40 1.04 0.68 0.49  \n",
       "2 1.00 1.00 1.00 1.00 1.00  \n",
       "3 1.00 1.00 1.00 1.00 1.00  \n",
       "\n",
       "[4 rows x 24 columns]"
      ]
     },
     "execution_count": 14,
     "metadata": {},
     "output_type": "execute_result"
    }
   ],
   "source": [
    "pqr"
   ]
  },
  {
   "cell_type": "code",
   "execution_count": 15,
   "metadata": {},
   "outputs": [],
   "source": [
    "transpose_again= pqr.T"
   ]
  },
  {
   "cell_type": "code",
   "execution_count": 16,
   "metadata": {},
   "outputs": [
    {
     "data": {
      "text/plain": [
       "<matplotlib.legend.Legend at 0x21de457c110>"
      ]
     },
     "execution_count": 16,
     "metadata": {},
     "output_type": "execute_result"
    },
    {
     "data": {
      "image/png": "[encoded data removed]",
      "text/plain": [
       "<Figure size 640x480 with 1 Axes>"
      ]
     },
     "metadata": {},
     "output_type": "display_data"
    }
   ],
   "source": [
    "r1 = np.arange(len(transpose_again))\n",
    "\n",
    "plt.scatter(r1, transpose_again[2], color='#7f6d5f', edgecolor='white', label='Explained Variance')\n",
    "plt.scatter(r1, transpose_again[3], color='#557f2d', edgecolor='white', label='R_2')\n",
    "plt.xlabel('Regularization param value')\n",
    "plt.ylabel('Predicted Values')\n",
    "plt.title('R_2 and Explained Variance results')\n",
    "\n",
    "plt.legend()"
   ]
  },
  {
   "cell_type": "markdown",
   "metadata": {},
   "source": [
    "## Testing the new parameters\n",
    "\n",
    "Model Params:\n",
    "* `C` =23.0\n",
    "* `kernel` = linear"
   ]
  },
  {
   "cell_type": "code",
   "execution_count": 17,
   "metadata": {},
   "outputs": [],
   "source": [
    "from sklearn.svm import SVR\n",
    "from sklearn.pipeline import make_pipeline\n",
    "from sklearn.preprocessing import StandardScaler\n",
    "import numpy as np\n",
    "regr = make_pipeline(StandardScaler(), SVR(C=23.0, epsilon=0.2,kernel='linear'))\n",
    "y_pred=regr.fit(X_train, y_train).predict(X_test)"
   ]
  },
  {
   "cell_type": "code",
   "execution_count": 18,
   "metadata": {},
   "outputs": [
    {
     "data": {
      "text/plain": [
       "1.0084442694133289"
      ]
     },
     "execution_count": 18,
     "metadata": {},
     "output_type": "execute_result"
    }
   ],
   "source": [
    "y_true =y_test\n",
    "results_trial1=pd.DataFrame(y_pred,y_true).reset_index()\n",
    "results_trial1=pd.DataFrame(y_pred,y_true).reset_index()\n",
    "results_trial1=results_trial1.rename(columns={'Data_x':'true',0:'predicted'})\n",
    "results_trial1['how_off']= ((results_trial1['true']-results_trial1['predicted'])/results_trial1['true'])*100\n",
    "1-np.mean(results_trial1['how_off'])"
   ]
  },
  {
   "cell_type": "code",
   "execution_count": 19,
   "metadata": {},
   "outputs": [
    {
     "data": {
      "text/plain": [
       "<matplotlib.legend.Legend at 0x21de457dfa0>"
      ]
     },
     "execution_count": 19,
     "metadata": {},
     "output_type": "execute_result"
    },
    {
     "data": {
      "image/png": "[encoded data removed]",
      "text/plain": [
       "<Figure size 640x480 with 1 Axes>"
      ]
     },
     "metadata": {},
     "output_type": "display_data"
    }
   ],
   "source": [
    "r1 = np.arange(len(results_trial1['true']))\n",
    "\n",
    "plt.bar(r1, results_trial1['true'], color='purple', edgecolor='white', label='true values')\n",
    "plt.scatter(r1, results_trial1['predicted'], color='orange', edgecolor='white', label='predicted values')\n",
    "plt.xlabel('Run #')\n",
    "plt.ylabel('Predicted Values')\n",
    "plt.title('Predicted value vs true value')\n",
    "\n",
    "plt.legend()"
   ]
  },
  {
   "cell_type": "code",
   "execution_count": 20,
   "metadata": {},
   "outputs": [
    {
     "name": "stdout",
     "output_type": "stream",
     "text": [
      "Mean absolute Error 0.5015197025325832\n",
      "Mean squared error 0.6816571723390132\n",
      "('Explained variance score', 0.9999999633976815)\n",
      "('R_2 score', 0.9999999627156978)\n"
     ]
    }
   ],
   "source": [
    "print('Mean absolute Error',mean_absolute_error(y_true, y_pred))\n",
    "print('Mean squared error', mean_squared_error(y_true, y_pred))\n",
    "print(('Explained variance score',explained_variance_score(y_true, y_pred)))\n",
    "print(('R_2 score',r2_score(y_true, y_pred)))"
   ]
  },
  {
   "cell_type": "markdown",
   "metadata": {},
   "source": [
    "# Results\n",
    "\n",
    "The SVR performed very well. With a prediction accuracy of 100%.\n",
    "The `MAE` was 0.5021485094357804\\\n",
    "The `MSE` was 0.6832135549229309\\\n",
    "The `Explained variance` was 0.9999999633196209\\\n",
    "The $ R^2 $ was 0.999999962630569"
   ]
  },
  {
   "cell_type": "markdown",
   "metadata": {},
   "source": []
  }
 ],
 "metadata": {
  "kernelspec": {
   "display_name": "Python 3",
   "language": "python",
   "name": "python3"
  },
  "language_info": {
   "codemirror_mode": {
    "name": "ipython",
    "version": 3
   },
   "file_extension": ".py",
   "mimetype": "text/x-python",
   "name": "python",
   "nbconvert_exporter": "python",
   "pygments_lexer": "ipython3",
   "version": "3.12.2"
  }
 },
 "nbformat": 4,
 "nbformat_minor": 2
}
